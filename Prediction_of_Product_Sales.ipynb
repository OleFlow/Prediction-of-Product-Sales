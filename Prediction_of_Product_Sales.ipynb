{
  "nbformat": 4,
  "nbformat_minor": 0,
  "metadata": {
    "colab": {
      "provenance": [],
      "authorship_tag": "ABX9TyOOpHnQiMdRTJ1JOZ81FLEB",
      "include_colab_link": true
    },
    "kernelspec": {
      "name": "python3",
      "display_name": "Python 3"
    },
    "language_info": {
      "name": "python"
    }
  },
  "cells": [
    {
      "cell_type": "markdown",
      "metadata": {
        "id": "view-in-github",
        "colab_type": "text"
      },
      "source": [
        "<a href=\"https://colab.research.google.com/github/OleFlow/Prediction-of-Product-Sales/blob/main/Prediction_of_Product_Sales.ipynb\" target=\"_parent\"><img src=\"https://colab.research.google.com/assets/colab-badge.svg\" alt=\"Open In Colab\"/></a>"
      ]
    },
    {
      "cell_type": "markdown",
      "source": [
        "#Prediction of Product Sales"
      ],
      "metadata": {
        "id": "WceYza2j3bqp"
      }
    },
    {
      "cell_type": "markdown",
      "source": [
        "- Author: Olebogeng Queeneth Mosito"
      ],
      "metadata": {
        "id": "5ilSZPVm3mMp"
      }
    },
    {
      "cell_type": "markdown",
      "source": [
        "##Project Overview\n"
      ],
      "metadata": {
        "id": "IY1Blt_L35kL"
      }
    },
    {
      "cell_type": "code",
      "source": [],
      "metadata": {
        "id": "k01uVU444Wbv"
      },
      "execution_count": null,
      "outputs": []
    },
    {
      "cell_type": "markdown",
      "source": [
        "##Load and Inspect Data"
      ],
      "metadata": {
        "id": "mGI4vQu_39NZ"
      }
    },
    {
      "cell_type": "code",
      "source": [],
      "metadata": {
        "id": "rk6FOy2x4XRn"
      },
      "execution_count": null,
      "outputs": []
    },
    {
      "cell_type": "markdown",
      "source": [
        "##Clean Data"
      ],
      "metadata": {
        "id": "oebcyVfe4Cz-"
      }
    },
    {
      "cell_type": "code",
      "source": [],
      "metadata": {
        "id": "oEjzeV8y4X8y"
      },
      "execution_count": null,
      "outputs": []
    },
    {
      "cell_type": "markdown",
      "source": [
        "##Explanatory Data Analysis"
      ],
      "metadata": {
        "id": "rTm5m_-P4Llx"
      }
    },
    {
      "cell_type": "code",
      "source": [],
      "metadata": {
        "id": "hb4J62PY4Yrs"
      },
      "execution_count": null,
      "outputs": []
    },
    {
      "cell_type": "markdown",
      "source": [
        "##Exploratory Data Analysis"
      ],
      "metadata": {
        "id": "YNkj-0s74HEv"
      }
    },
    {
      "cell_type": "code",
      "execution_count": null,
      "metadata": {
        "id": "D5oFQDDX3TeH"
      },
      "outputs": [],
      "source": []
    }
  ]
}