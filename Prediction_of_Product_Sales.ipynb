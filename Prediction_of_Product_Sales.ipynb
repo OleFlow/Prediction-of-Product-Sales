{
  "nbformat": 4,
  "nbformat_minor": 0,
  "metadata": {
    "colab": {
      "provenance": [],
      "mount_file_id": "https://github.com/OleFlow/Prediction-of-Product-Sales/blob/main/Prediction_of_Product_Sales.ipynb",
      "authorship_tag": "ABX9TyOBeD+gf6uzMaPz/TO8tT3O",
      "include_colab_link": true
    },
    "kernelspec": {
      "name": "python3",
      "display_name": "Python 3"
    },
    "language_info": {
      "name": "python"
    }
  },
  "cells": [
    {
      "cell_type": "markdown",
      "metadata": {
        "id": "view-in-github",
        "colab_type": "text"
      },
      "source": [
        "<a href=\"https://colab.research.google.com/github/OleFlow/Prediction-of-Product-Sales/blob/main/Prediction_of_Product_Sales.ipynb\" target=\"_parent\"><img src=\"https://colab.research.google.com/assets/colab-badge.svg\" alt=\"Open In Colab\"/></a>"
      ]
    },
    {
      "cell_type": "markdown",
      "source": [
        "#Prediction of Product Sales"
      ],
      "metadata": {
        "id": "WceYza2j3bqp"
      }
    },
    {
      "cell_type": "markdown",
      "source": [
        "- Author: Olebogeng Queeneth Mosito"
      ],
      "metadata": {
        "id": "5ilSZPVm3mMp"
      }
    },
    {
      "cell_type": "markdown",
      "source": [
        "##Project Overview\n"
      ],
      "metadata": {
        "id": "IY1Blt_L35kL"
      }
    },
    {
      "cell_type": "code",
      "source": [],
      "metadata": {
        "id": "k01uVU444Wbv"
      },
      "execution_count": null,
      "outputs": []
    },
    {
      "cell_type": "markdown",
      "source": [
        "##Load and Inspect Data"
      ],
      "metadata": {
        "id": "mGI4vQu_39NZ"
      }
    },
    {
      "cell_type": "code",
      "source": [
        "import pandas as pd\n",
        "\n",
        "# Load data from CSV file\n",
        "df = pd.read_csv('/content/drive/MyDrive/CodingDojo/01-Fundamentals/Week02/Data/sales_predictions_2023.csv')\n",
        "\n",
        "# Summary of DataFrame's columns\n",
        "print(\"Column info:\")\n",
        "print(df.info())\n",
        "\n",
        "print(\"First few rows of the data:\")\n",
        "print(df.head())\n",
        "\n"
      ],
      "metadata": {
        "id": "rk6FOy2x4XRn",
        "outputId": "ab436169-4d3c-437d-bac8-e2fb0470034b",
        "colab": {
          "base_uri": "https://localhost:8080/"
        }
      },
      "execution_count": 4,
      "outputs": [
        {
          "output_type": "stream",
          "name": "stdout",
          "text": [
            "Column info:\n",
            "<class 'pandas.core.frame.DataFrame'>\n",
            "RangeIndex: 8523 entries, 0 to 8522\n",
            "Data columns (total 12 columns):\n",
            " #   Column                     Non-Null Count  Dtype  \n",
            "---  ------                     --------------  -----  \n",
            " 0   Item_Identifier            8523 non-null   object \n",
            " 1   Item_Weight                7060 non-null   float64\n",
            " 2   Item_Fat_Content           8523 non-null   object \n",
            " 3   Item_Visibility            8523 non-null   float64\n",
            " 4   Item_Type                  8523 non-null   object \n",
            " 5   Item_MRP                   8523 non-null   float64\n",
            " 6   Outlet_Identifier          8523 non-null   object \n",
            " 7   Outlet_Establishment_Year  8523 non-null   int64  \n",
            " 8   Outlet_Size                6113 non-null   object \n",
            " 9   Outlet_Location_Type       8523 non-null   object \n",
            " 10  Outlet_Type                8523 non-null   object \n",
            " 11  Item_Outlet_Sales          8523 non-null   float64\n",
            "dtypes: float64(4), int64(1), object(7)\n",
            "memory usage: 799.2+ KB\n",
            "None\n",
            "First few rows of the data:\n",
            "  Item_Identifier  Item_Weight Item_Fat_Content  Item_Visibility  \\\n",
            "0           FDA15         9.30          Low Fat         0.016047   \n",
            "1           DRC01         5.92          Regular         0.019278   \n",
            "2           FDN15        17.50          Low Fat         0.016760   \n",
            "3           FDX07        19.20          Regular         0.000000   \n",
            "4           NCD19         8.93          Low Fat         0.000000   \n",
            "\n",
            "               Item_Type  Item_MRP Outlet_Identifier  \\\n",
            "0                  Dairy  249.8092            OUT049   \n",
            "1            Soft Drinks   48.2692            OUT018   \n",
            "2                   Meat  141.6180            OUT049   \n",
            "3  Fruits and Vegetables  182.0950            OUT010   \n",
            "4              Household   53.8614            OUT013   \n",
            "\n",
            "   Outlet_Establishment_Year Outlet_Size Outlet_Location_Type  \\\n",
            "0                       1999      Medium               Tier 1   \n",
            "1                       2009      Medium               Tier 3   \n",
            "2                       1999      Medium               Tier 1   \n",
            "3                       1998         NaN               Tier 3   \n",
            "4                       1987        High               Tier 3   \n",
            "\n",
            "         Outlet_Type  Item_Outlet_Sales  \n",
            "0  Supermarket Type1          3735.1380  \n",
            "1  Supermarket Type2           443.4228  \n",
            "2  Supermarket Type1          2097.2700  \n",
            "3      Grocery Store           732.3800  \n",
            "4  Supermarket Type1           994.7052  \n"
          ]
        }
      ]
    },
    {
      "cell_type": "markdown",
      "source": [
        "##Clean Data"
      ],
      "metadata": {
        "id": "oebcyVfe4Cz-"
      }
    },
    {
      "cell_type": "code",
      "source": [
        "df['Item_Weight'].fillna(df['Item_Weight'].mean(), inplace=True)\n",
        "df.dropna(subset=['Outlet_Size'], inplace=True)\n",
        "df.reset_index(drop=True, inplace=True)\n",
        "print(df.head())\n",
        "\n",
        "num_rows = df.shape[0]\n",
        "num_columns = df.shape[1]\n",
        "\n",
        "print(\"Number of rows:\", num_rows)\n",
        "print(\"Number of columns:\", num_columns)\n",
        "\n",
        "data_types = df.dtypes\n",
        "\n",
        "print(data_types)\n",
        "\n",
        "duplicates = df.duplicated()\n",
        "\n",
        "if duplicates.any():\n",
        "    print(\"Duplicates found.\")\n",
        "    df.drop_duplicates(inplace=True)\n",
        "    df.reset_index(drop=True, inplace=True)\n",
        "\n",
        "missing_values = df.isnull().sum()\n",
        "\n",
        "print(missing_values)\n",
        "\n",
        "df_filled = df.fillna(\"Unknown\")\n",
        "placeholder_values = {\n",
        "    'Outlet_Size': 'Not Available',\n",
        "    'Item_Weight': 0\n",
        "}\n",
        "\n",
        "df_filled = df.fillna(placeholder_values)\n",
        "\n",
        "missing_values = df_filled.isnull().sum()\n",
        "\n",
        "if missing_values.sum() == 0:\n",
        "    print(\"No missing values remain.\")\n",
        "else:\n",
        "    print(\"Missing values still exist.\")\n",
        "    print(missing_values)\n",
        "\n",
        "\n",
        "# Define a mapping dictionary for inconsistent categories\n",
        "category_mapping = {\n",
        "    'LF': 'Low Fat',\n",
        "    'reg': 'Regular',\n",
        "\n",
        "}\n",
        "\n",
        "# Use the mapping dictionary to replace inconsistent categories\n",
        "df['Item_Fat_Content'] = df['Item_Fat_Content'].replace(category_mapping)\n",
        "\n",
        "numerical_columns = df.select_dtypes(include=['float64', 'int64'])\n",
        "\n",
        "\n",
        "min_values = numerical_columns.min()\n",
        "print(min_values)\n",
        "\n",
        "max_values = numerical_columns.max()\n",
        "print(max_values)\n",
        "\n",
        "mean_values = numerical_columns.mean()\n",
        "\n",
        "print(mean_values)"
      ],
      "metadata": {
        "id": "oEjzeV8y4X8y",
        "outputId": "635087f8-5f04-4858-8d01-e966dc7e28ef",
        "colab": {
          "base_uri": "https://localhost:8080/"
        }
      },
      "execution_count": 19,
      "outputs": [
        {
          "output_type": "stream",
          "name": "stdout",
          "text": [
            "  Item_Identifier  Item_Weight Item_Fat_Content  Item_Visibility  \\\n",
            "0           FDA15        9.300          low fat         0.016047   \n",
            "1           DRC01        5.920          regular         0.019278   \n",
            "2           FDN15       17.500          low fat         0.016760   \n",
            "3           NCD19        8.930          low fat         0.000000   \n",
            "4           FDP36       10.395          regular         0.000000   \n",
            "\n",
            "      Item_Type  Item_MRP Outlet_Identifier  Outlet_Establishment_Year  \\\n",
            "0         Dairy  249.8092            OUT049                       1999   \n",
            "1   Soft Drinks   48.2692            OUT018                       2009   \n",
            "2          Meat  141.6180            OUT049                       1999   \n",
            "3     Household   53.8614            OUT013                       1987   \n",
            "4  Baking Goods   51.4008            OUT018                       2009   \n",
            "\n",
            "  Outlet_Size Outlet_Location_Type        Outlet_Type  Item_Outlet_Sales  \n",
            "0      Medium               Tier 1  Supermarket Type1          3735.1380  \n",
            "1      Medium               Tier 3  Supermarket Type2           443.4228  \n",
            "2      Medium               Tier 1  Supermarket Type1          2097.2700  \n",
            "3        High               Tier 3  Supermarket Type1           994.7052  \n",
            "4      Medium               Tier 3  Supermarket Type2           556.6088  \n",
            "Number of rows: 6113\n",
            "Number of columns: 12\n",
            "Item_Identifier               object\n",
            "Item_Weight                  float64\n",
            "Item_Fat_Content              object\n",
            "Item_Visibility              float64\n",
            "Item_Type                     object\n",
            "Item_MRP                     float64\n",
            "Outlet_Identifier             object\n",
            "Outlet_Establishment_Year      int64\n",
            "Outlet_Size                   object\n",
            "Outlet_Location_Type          object\n",
            "Outlet_Type                   object\n",
            "Item_Outlet_Sales            float64\n",
            "dtype: object\n",
            "Item_Identifier              0\n",
            "Item_Weight                  0\n",
            "Item_Fat_Content             0\n",
            "Item_Visibility              0\n",
            "Item_Type                    0\n",
            "Item_MRP                     0\n",
            "Outlet_Identifier            0\n",
            "Outlet_Establishment_Year    0\n",
            "Outlet_Size                  0\n",
            "Outlet_Location_Type         0\n",
            "Outlet_Type                  0\n",
            "Item_Outlet_Sales            0\n",
            "dtype: int64\n",
            "No missing values remain.\n",
            "Item_Weight                     4.5550\n",
            "Item_Visibility                 0.0000\n",
            "Item_MRP                       31.2900\n",
            "Outlet_Establishment_Year    1985.0000\n",
            "Item_Outlet_Sales              33.9558\n",
            "dtype: float64\n",
            "Item_Weight                     21.350000\n",
            "Item_Visibility                  0.328391\n",
            "Item_MRP                       266.888400\n",
            "Outlet_Establishment_Year     2009.000000\n",
            "Item_Outlet_Sales            13086.964800\n",
            "dtype: float64\n",
            "Item_Weight                    12.888856\n",
            "Item_Visibility                 0.064505\n",
            "Item_MRP                      141.256859\n",
            "Outlet_Establishment_Year    1995.794373\n",
            "Item_Outlet_Sales            2322.688445\n",
            "dtype: float64\n"
          ]
        }
      ]
    },
    {
      "cell_type": "markdown",
      "source": [
        "##Explanatory Data Analysis"
      ],
      "metadata": {
        "id": "rTm5m_-P4Llx"
      }
    },
    {
      "cell_type": "code",
      "source": [],
      "metadata": {
        "id": "hb4J62PY4Yrs"
      },
      "execution_count": null,
      "outputs": []
    },
    {
      "cell_type": "markdown",
      "source": [
        "##Exploratory Data Analysis"
      ],
      "metadata": {
        "id": "YNkj-0s74HEv"
      }
    },
    {
      "cell_type": "code",
      "execution_count": null,
      "metadata": {
        "id": "D5oFQDDX3TeH"
      },
      "outputs": [],
      "source": []
    }
  ]
}